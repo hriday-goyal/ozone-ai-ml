{
 "cells": [
  {
   "cell_type": "markdown",
   "id": "505da699",
   "metadata": {},
   "source": [
    "# Air Purification Efficiency Predictor using Machine Learning\n",
    "This notebook simulates and models the predicted reduction in pollutants (e.g., PM2.5 or VOCs) based on ozone output, run time, room size, humidity, and temperature."
   ]
  },
  {
   "cell_type": "code",
   "execution_count": null,
   "id": "10281be9",
   "metadata": {},
   "outputs": [],
   "source": [
    "import pandas as pd\n",
    "import numpy as np\n",
    "import matplotlib.pyplot as plt\n",
    "import seaborn as sns\n",
    "from sklearn.model_selection import train_test_split\n",
    "from sklearn.ensemble import RandomForestRegressor\n",
    "from sklearn.metrics import mean_absolute_error, mean_squared_error, r2_score"
   ]
  },
  {
   "cell_type": "code",
   "execution_count": null,
   "id": "8aa5fb29",
   "metadata": {},
   "outputs": [],
   "source": [
    "# Load ozone dataset\n",
    "df = pd.read_csv('simulated_ozone_data.csv')\n",
    "df['Room_Volume_cuft'] = 1.6"
   ]
  },
  {
   "cell_type": "code",
   "execution_count": null,
   "id": "5f950148",
   "metadata": {},
   "outputs": [],
   "source": [
    "# Simulate purification efficiency (%)\n",
    "def simulate_efficiency(row):\n",
    "    ozone_factor = row['Ozone_ppm'] * row['Time_min']\n",
    "    volume_factor = row['Room_Volume_cuft']\n",
    "    humidity_factor = 1 - (row['Humidity_percent'] - 50) * 0.005\n",
    "    temp_factor = 1 - abs(row['Temperature_C'] - 25) * 0.01\n",
    "    raw_score = ozone_factor * humidity_factor * temp_factor / volume_factor\n",
    "    efficiency = min(100, raw_score * 10 + np.random.normal(0, 5))\n",
    "    return max(0, efficiency)\n",
    "df['Efficiency_%'] = df.apply(simulate_efficiency, axis=1)\n",
    "df[['Ozone_ppm', 'Time_min', 'Efficiency_%']].head()"
   ]
  },
  {
   "cell_type": "code",
   "execution_count": null,
   "id": "4bb8f1e3",
   "metadata": {},
   "outputs": [],
   "source": [
    "# Train/test split\n",
    "X = df[['Ozone_ppm', 'Time_min', 'Room_Volume_cuft', 'Temperature_C', 'Humidity_percent']]\n",
    "y = df['Efficiency_%']\n",
    "X_train, X_test, y_train, y_test = train_test_split(X, y, test_size=0.2, random_state=42)"
   ]
  },
  {
   "cell_type": "code",
   "execution_count": null,
   "id": "b9102cba",
   "metadata": {},
   "outputs": [],
   "source": [
    "# Random Forest Model\n",
    "model = RandomForestRegressor(n_estimators=100, random_state=42)\n",
    "model.fit(X_train, y_train)\n",
    "y_pred = model.predict(X_test)"
   ]
  },
  {
   "cell_type": "code",
   "execution_count": null,
   "id": "dc1869be",
   "metadata": {},
   "outputs": [],
   "source": [
    "# Evaluation\n",
    "print('R2 Score:', r2_score(y_test, y_pred))\n",
    "print('MAE:', mean_absolute_error(y_test, y_pred))\n",
    "print('RMSE:', np.sqrt(mean_squared_error(y_test, y_pred)))"
   ]
  },
  {
   "cell_type": "code",
   "execution_count": null,
   "id": "ebe141fe",
   "metadata": {},
   "outputs": [],
   "source": [
    "# Visualization\n",
    "plt.figure(figsize=(10,6))\n",
    "plt.plot(y_test.values, label='Actual', alpha=0.7)\n",
    "plt.plot(y_pred, label='Predicted', alpha=0.7)\n",
    "plt.legend()\n",
    "plt.title('Actual vs Predicted Purification Efficiency (%)')\n",
    "plt.xlabel('Sample Index')\n",
    "plt.ylabel('Efficiency (%)')\n",
    "plt.show()"
   ]
  }
 ],
 "metadata": {},
 "nbformat": 4,
 "nbformat_minor": 5
}
