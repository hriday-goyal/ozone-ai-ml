{
 "cells": [
  {
   "cell_type": "markdown",
   "id": "baff262b",
   "metadata": {},
   "source": [
    "# Smart Controller for Safe Ozone Generation\n",
    "This notebook uses classification models to determine whether ozone generator usage is safe based on room size, voltage, runtime, and environmental conditions."
   ]
  },
  {
   "cell_type": "code",
   "execution_count": null,
   "id": "3e229ce2",
   "metadata": {},
   "outputs": [],
   "source": [
    "import pandas as pd\n",
    "import numpy as np\n",
    "import matplotlib.pyplot as plt\n",
    "import seaborn as sns\n",
    "from sklearn.model_selection import train_test_split\n",
    "from sklearn.ensemble import RandomForestClassifier\n",
    "from sklearn.linear_model import LogisticRegression\n",
    "from sklearn.metrics import accuracy_score, classification_report, confusion_matrix"
   ]
  },
  {
   "cell_type": "code",
   "execution_count": null,
   "id": "ffedde8f",
   "metadata": {},
   "outputs": [],
   "source": [
    "# Load dataset\n",
    "df = pd.read_csv('simulated_ozone_data.csv')\n",
    "df.head()"
   ]
  },
  {
   "cell_type": "code",
   "execution_count": null,
   "id": "b51d1378",
   "metadata": {},
   "outputs": [],
   "source": [
    "# Add room volume (fixed small room or user input simulation)\n",
    "df['Room_Volume_cuft'] = 1.6  # based on 13x12x12 inch box converted to cubic feet"
   ]
  },
  {
   "cell_type": "code",
   "execution_count": null,
   "id": "e4b2c41a",
   "metadata": {},
   "outputs": [],
   "source": [
    "# Define safe ozone threshold (e.g., 0.05 ppm safe limit by WHO)\n",
    "df['Safe'] = df['Ozone_ppm'].apply(lambda x: 1 if x <= 0.05 else 0)  # 1 = Safe, 0 = Unsafe"
   ]
  },
  {
   "cell_type": "code",
   "execution_count": null,
   "id": "fd7634ee",
   "metadata": {},
   "outputs": [],
   "source": [
    "# Split features and labels\n",
    "X = df[['Voltage_kV', 'Time_min', 'Gap_mm', 'Temperature_C', 'Humidity_percent', 'Room_Volume_cuft']]\n",
    "y = df['Safe']\n",
    "X_train, X_test, y_train, y_test = train_test_split(X, y, test_size=0.2, random_state=42)"
   ]
  },
  {
   "cell_type": "code",
   "execution_count": null,
   "id": "df895aad",
   "metadata": {},
   "outputs": [],
   "source": [
    "# Logistic Regression\n",
    "logreg = LogisticRegression()\n",
    "logreg.fit(X_train, y_train)\n",
    "y_pred_log = logreg.predict(X_test)\n",
    "print('Logistic Regression Accuracy:', accuracy_score(y_test, y_pred_log))\n",
    "print(classification_report(y_test, y_pred_log))"
   ]
  },
  {
   "cell_type": "code",
   "execution_count": null,
   "id": "4e12a859",
   "metadata": {},
   "outputs": [],
   "source": [
    "# Random Forest Classifier\n",
    "rfc = RandomForestClassifier(n_estimators=100, random_state=42)\n",
    "rfc.fit(X_train, y_train)\n",
    "y_pred_rf = rfc.predict(X_test)\n",
    "print('Random Forest Accuracy:', accuracy_score(y_test, y_pred_rf))\n",
    "print(classification_report(y_test, y_pred_rf))"
   ]
  },
  {
   "cell_type": "code",
   "execution_count": null,
   "id": "11e44d2b",
   "metadata": {},
   "outputs": [],
   "source": [
    "# Confusion Matrix\n",
    "conf_matrix = confusion_matrix(y_test, y_pred_rf)\n",
    "sns.heatmap(conf_matrix, annot=True, fmt='d', cmap='Blues')\n",
    "plt.title('Random Forest Confusion Matrix')\n",
    "plt.xlabel('Predicted')\n",
    "plt.ylabel('Actual')\n",
    "plt.show()"
   ]
  }
 ],
 "metadata": {},
 "nbformat": 4,
 "nbformat_minor": 5
}
